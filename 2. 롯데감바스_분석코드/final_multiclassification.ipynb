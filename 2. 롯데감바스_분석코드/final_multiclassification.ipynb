{
 "cells": [
  {
   "cell_type": "code",
   "execution_count": 114,
   "metadata": {
    "collapsed": false,
    "pycharm": {
     "name": "#%%\n"
    }
   },
   "outputs": [
    {
     "name": "stderr",
     "output_type": "stream",
     "text": [
      "C:\\Users\\kimhongbum\\AppData\\Local\\Temp\\ipykernel_7152\\3300253785.py:4: DtypeWarning: Columns (8,17) have mixed types. Specify dtype option on import or set low_memory=False.\n",
      "  data_clustering = pd.read_csv(\"C:\\\\Users\\kimhongbum\\PycharmProjects\\Lotte_competition\\code\\k_means_clustering_pdde(3).csv\", encoding = 'cp949')\n"
     ]
    }
   ],
   "source": [
    "import pandas as pd\n",
    "import sklearn\n",
    "from sklearn.preprocessing import LabelEncoder\n",
    "data_clustering = pd.read_csv(\"C:\\\\Users\\kimhongbum\\PycharmProjects\\Lotte_competition\\code\\k_means_clustering_pdde(3).csv\", encoding = 'cp949')\n",
    "data_clustering = data_clustering.drop(columns = [\"Unnamed: 0\"])\n",
    "pd.set_option(\"display.max_columns\", 100)"
   ]
  },
  {
   "cell_type": "code",
   "execution_count": 115,
   "outputs": [],
   "source": [
    "data_clustering['불쾌지수'] = 9/5*data_clustering['평균기온(℃)']-0.55*(1-data_clustering['평균습도(%rh)']/100)*(9/5*data_clustering['평균기온(℃)']-26) + 32"
   ],
   "metadata": {
    "collapsed": false,
    "pycharm": {
     "name": "#%%\n"
    }
   }
  },
  {
   "cell_type": "markdown",
   "metadata": {
    "collapsed": false,
    "pycharm": {
     "name": "#%% md\n"
    }
   },
   "source": [
    "# preprocessing"
   ]
  },
  {
   "cell_type": "code",
   "execution_count": 116,
   "metadata": {
    "collapsed": false,
    "pycharm": {
     "name": "#%%\n"
    }
   },
   "outputs": [
    {
     "data": {
      "text/plain": "         cust  ma_fem_dv  ages  zon_hlv        rct_no  chnl_dv  cop_c  \\\n0  M430112881          1     3       16  A01000001113        1      0   \n1  M646853852          1     2       12  A01000002265        1      0   \n2  M430112881          1     3       16  A01000003148        1      0   \n3  M430112881          1     3       16  A01000003148        1      0   \n4  M430112881          1     3       16  A01000004946        1      0   \n\n      br_c    pd_c     de_dt  de_hr   buy_am  buy_ct     pd_nm clac_hlv_nm  \\\n0  A010039  PD0290  20210101     10  15000.0       1     남성티셔츠        남성의류   \n1  A010025  PD1369  20210101     10  79700.0       1  기타주방일회용품        주방잡화   \n2  A010039  PD0290  20210101     10  19000.0       1     남성티셔츠        남성의류   \n3  A010039  PD0290  20210101     10  19000.0       1     남성티셔츠        남성의류   \n4  A010039  PD0290  20210101     10  19000.0       1     남성티셔츠        남성의류   \n\n  clac_mcls_nm zon_mcls          날짜  강수량(mm)  평균기온(℃)  최저기온(℃)  최고기온(℃)  \\\n0       남성의류상의      NaN  2021-01-01      0.2     -3.4     -9.3      1.6   \n1       주방일회용품   Z13001  2021-01-01      0.2     -3.4     -9.3      1.6   \n2       남성의류상의      NaN  2021-01-01      0.2     -3.4     -9.3      1.6   \n3       남성의류상의      NaN  2021-01-01      0.2     -3.4     -9.3      1.6   \n4       남성의류상의      NaN  2021-01-01      0.2     -3.4     -9.3      1.6   \n\n   평균습도(%rh)  최저습도(%rh)  일조합(hr)  일사합(MJ/m2)  year  month  요일   일교차  \\\n0         69         18      6.3        8.82  2021      1   4  10.9   \n1         69         18      6.3        8.82  2021      1   4  10.9   \n2         69         18      6.3        8.82  2021      1   4  10.9   \n3         69         18      6.3        8.82  2021      1   4  10.9   \n4         69         18      6.3        8.82  2021      1   4  10.9   \n\n   holiday_anniversary  k_mean_cluster      불쾌지수  \n0                    0               1  31.35646  \n1                    0               1  31.35646  \n2                    0               1  31.35646  \n3                    0               1  31.35646  \n4                    0               1  31.35646  ",
      "text/html": "<div>\n<style scoped>\n    .dataframe tbody tr th:only-of-type {\n        vertical-align: middle;\n    }\n\n    .dataframe tbody tr th {\n        vertical-align: top;\n    }\n\n    .dataframe thead th {\n        text-align: right;\n    }\n</style>\n<table border=\"1\" class=\"dataframe\">\n  <thead>\n    <tr style=\"text-align: right;\">\n      <th></th>\n      <th>cust</th>\n      <th>ma_fem_dv</th>\n      <th>ages</th>\n      <th>zon_hlv</th>\n      <th>rct_no</th>\n      <th>chnl_dv</th>\n      <th>cop_c</th>\n      <th>br_c</th>\n      <th>pd_c</th>\n      <th>de_dt</th>\n      <th>de_hr</th>\n      <th>buy_am</th>\n      <th>buy_ct</th>\n      <th>pd_nm</th>\n      <th>clac_hlv_nm</th>\n      <th>clac_mcls_nm</th>\n      <th>zon_mcls</th>\n      <th>날짜</th>\n      <th>강수량(mm)</th>\n      <th>평균기온(℃)</th>\n      <th>최저기온(℃)</th>\n      <th>최고기온(℃)</th>\n      <th>평균습도(%rh)</th>\n      <th>최저습도(%rh)</th>\n      <th>일조합(hr)</th>\n      <th>일사합(MJ/m2)</th>\n      <th>year</th>\n      <th>month</th>\n      <th>요일</th>\n      <th>일교차</th>\n      <th>holiday_anniversary</th>\n      <th>k_mean_cluster</th>\n      <th>불쾌지수</th>\n    </tr>\n  </thead>\n  <tbody>\n    <tr>\n      <th>0</th>\n      <td>M430112881</td>\n      <td>1</td>\n      <td>3</td>\n      <td>16</td>\n      <td>A01000001113</td>\n      <td>1</td>\n      <td>0</td>\n      <td>A010039</td>\n      <td>PD0290</td>\n      <td>20210101</td>\n      <td>10</td>\n      <td>15000.0</td>\n      <td>1</td>\n      <td>남성티셔츠</td>\n      <td>남성의류</td>\n      <td>남성의류상의</td>\n      <td>NaN</td>\n      <td>2021-01-01</td>\n      <td>0.2</td>\n      <td>-3.4</td>\n      <td>-9.3</td>\n      <td>1.6</td>\n      <td>69</td>\n      <td>18</td>\n      <td>6.3</td>\n      <td>8.82</td>\n      <td>2021</td>\n      <td>1</td>\n      <td>4</td>\n      <td>10.9</td>\n      <td>0</td>\n      <td>1</td>\n      <td>31.35646</td>\n    </tr>\n    <tr>\n      <th>1</th>\n      <td>M646853852</td>\n      <td>1</td>\n      <td>2</td>\n      <td>12</td>\n      <td>A01000002265</td>\n      <td>1</td>\n      <td>0</td>\n      <td>A010025</td>\n      <td>PD1369</td>\n      <td>20210101</td>\n      <td>10</td>\n      <td>79700.0</td>\n      <td>1</td>\n      <td>기타주방일회용품</td>\n      <td>주방잡화</td>\n      <td>주방일회용품</td>\n      <td>Z13001</td>\n      <td>2021-01-01</td>\n      <td>0.2</td>\n      <td>-3.4</td>\n      <td>-9.3</td>\n      <td>1.6</td>\n      <td>69</td>\n      <td>18</td>\n      <td>6.3</td>\n      <td>8.82</td>\n      <td>2021</td>\n      <td>1</td>\n      <td>4</td>\n      <td>10.9</td>\n      <td>0</td>\n      <td>1</td>\n      <td>31.35646</td>\n    </tr>\n    <tr>\n      <th>2</th>\n      <td>M430112881</td>\n      <td>1</td>\n      <td>3</td>\n      <td>16</td>\n      <td>A01000003148</td>\n      <td>1</td>\n      <td>0</td>\n      <td>A010039</td>\n      <td>PD0290</td>\n      <td>20210101</td>\n      <td>10</td>\n      <td>19000.0</td>\n      <td>1</td>\n      <td>남성티셔츠</td>\n      <td>남성의류</td>\n      <td>남성의류상의</td>\n      <td>NaN</td>\n      <td>2021-01-01</td>\n      <td>0.2</td>\n      <td>-3.4</td>\n      <td>-9.3</td>\n      <td>1.6</td>\n      <td>69</td>\n      <td>18</td>\n      <td>6.3</td>\n      <td>8.82</td>\n      <td>2021</td>\n      <td>1</td>\n      <td>4</td>\n      <td>10.9</td>\n      <td>0</td>\n      <td>1</td>\n      <td>31.35646</td>\n    </tr>\n    <tr>\n      <th>3</th>\n      <td>M430112881</td>\n      <td>1</td>\n      <td>3</td>\n      <td>16</td>\n      <td>A01000003148</td>\n      <td>1</td>\n      <td>0</td>\n      <td>A010039</td>\n      <td>PD0290</td>\n      <td>20210101</td>\n      <td>10</td>\n      <td>19000.0</td>\n      <td>1</td>\n      <td>남성티셔츠</td>\n      <td>남성의류</td>\n      <td>남성의류상의</td>\n      <td>NaN</td>\n      <td>2021-01-01</td>\n      <td>0.2</td>\n      <td>-3.4</td>\n      <td>-9.3</td>\n      <td>1.6</td>\n      <td>69</td>\n      <td>18</td>\n      <td>6.3</td>\n      <td>8.82</td>\n      <td>2021</td>\n      <td>1</td>\n      <td>4</td>\n      <td>10.9</td>\n      <td>0</td>\n      <td>1</td>\n      <td>31.35646</td>\n    </tr>\n    <tr>\n      <th>4</th>\n      <td>M430112881</td>\n      <td>1</td>\n      <td>3</td>\n      <td>16</td>\n      <td>A01000004946</td>\n      <td>1</td>\n      <td>0</td>\n      <td>A010039</td>\n      <td>PD0290</td>\n      <td>20210101</td>\n      <td>10</td>\n      <td>19000.0</td>\n      <td>1</td>\n      <td>남성티셔츠</td>\n      <td>남성의류</td>\n      <td>남성의류상의</td>\n      <td>NaN</td>\n      <td>2021-01-01</td>\n      <td>0.2</td>\n      <td>-3.4</td>\n      <td>-9.3</td>\n      <td>1.6</td>\n      <td>69</td>\n      <td>18</td>\n      <td>6.3</td>\n      <td>8.82</td>\n      <td>2021</td>\n      <td>1</td>\n      <td>4</td>\n      <td>10.9</td>\n      <td>0</td>\n      <td>1</td>\n      <td>31.35646</td>\n    </tr>\n  </tbody>\n</table>\n</div>"
     },
     "execution_count": 116,
     "metadata": {},
     "output_type": "execute_result"
    }
   ],
   "source": [
    "data_clustering.drop(index = [4303935], inplace = True)\n",
    "data_clustering.reset_index(drop=True,inplace=True)\n",
    "data_clustering.head()"
   ]
  },
  {
   "cell_type": "code",
   "execution_count": 117,
   "outputs": [],
   "source": [
    "def preprocess(df):\n",
    "    #성별 남자 : 0, 여성 1\n",
    "    #나이 : 20대 0 30대 1 40대 2 50대 3 60대 4 70대 5\n",
    "    df.replace({'ma_fem_dv': {\"남성\": 0, \"여성\": 1},\n",
    "                      'ages': {\"20대\": 0,\"30대\": 1, \"40대\": 2, \"50대\": 3, \"60대\": 4, \"70대\": 5 }},inplace=True)\n",
    "    #날짜 split\n",
    "\n",
    "    df['de_dt'] = df['de_dt'].astype(str)\n",
    "    df['de_dt'] = pd.to_datetime(df['de_dt'])\n",
    "    df['year'] = df['de_dt'].apply(lambda x: x.year)\n",
    "    df['month'] = df['de_dt'].apply(lambda x: x.month)\n",
    "    df['요일'] = df['de_dt'].apply(lambda x: x.weekday())\n",
    "    #일교차 생성\n",
    "    df['일교차'] = df[\"최고기온(℃)\"] - df[\"최저기온(℃)\"]\n",
    "\n",
    "    # 불쾌지수 생성\n",
    "    df['불쾌지수'] = 9/5*df['평균기온(℃)']-0.55*(1-df['평균습도(%rh)']/100)*(9/5*df['평균기온(℃)']-26) + 32\n",
    "\n",
    "\n",
    "\n",
    "    # 2020년 데이터 제외\n",
    "    df = df[df['year']!=2020]\n",
    "    df= df.reset_index(drop=True)\n",
    "\n",
    "\n",
    "\n",
    "    #공휴일 생성 요일은 월:0, 화:1\n",
    "    tmp = []\n",
    "    # 주말\n",
    "    for i in range(len(df)):\n",
    "        if df['요일'][i]==5 or df['요일'][i]==6: # 주말이면\n",
    "            tmp.append(df['de_dt'][i])\n",
    "    # 21년도 기준 공휴일 & 기념일 & 대체휴일\n",
    "    공휴일 = ['2021-01-01','2021-02-11','2021-02-12', '2021-02-13','2021-02-14','2021-03-01','2021-03-14','2021-05-05','2021-05-08','2021-06-06',\n",
    "             '2021-08-15','2021-08-16','2021-09-20','2021-09-21','2021-09-22','2021-10-03','2021-10-04','2021-10-09','2021-10-11','2021-12-24','2021-12-25']\n",
    "\n",
    "    tmp.extend(공휴일)\n",
    "\n",
    "    tmp = list(set(tmp)) #중복제거\n",
    "\n",
    "    holiday_anniversary = []\n",
    "    for i in range(len(df)):\n",
    "        if df['de_dt'][i] in tmp:\n",
    "            holiday_anniversary.append(1)\n",
    "        else:\n",
    "            holiday_anniversary.append(0)\n",
    "\n",
    "    df['holiday_anniversary'] = holiday_anniversary\n",
    "\n",
    "    return df"
   ],
   "metadata": {
    "collapsed": false,
    "pycharm": {
     "name": "#%%\n"
    }
   }
  },
  {
   "cell_type": "code",
   "execution_count": 118,
   "outputs": [],
   "source": [
    "# 2020년 데이터 제외\n",
    "data_clustering = data_clustering[data_clustering['year']!=2020]\n",
    "data_clustering= data_clustering.reset_index(drop=True)"
   ],
   "metadata": {
    "collapsed": false,
    "pycharm": {
     "name": "#%%\n"
    }
   }
  },
  {
   "cell_type": "code",
   "execution_count": 119,
   "metadata": {
    "collapsed": false,
    "pycharm": {
     "name": "#%%\n"
    }
   },
   "outputs": [],
   "source": [
    "#라벨 인코딩 진행\n",
    "import sklearn\n",
    "from sklearn.preprocessing import LabelEncoder\n",
    "\n",
    "le2 = LabelEncoder()\n",
    "\n",
    "data_clustering['clac_hlv_nm'] = le2.fit_transform(data_clustering['clac_hlv_nm'])"
   ]
  },
  {
   "cell_type": "code",
   "execution_count": 146,
   "outputs": [
    {
     "name": "stdout",
     "output_type": "stream",
     "text": [
      "0 -> 가구\n",
      "1 -> 건강식품\n",
      "2 -> 건강용품\n",
      "3 -> 건해산물\n",
      "4 -> 계절가전\n",
      "5 -> 공구/안전용품\n",
      "6 -> 과일\n",
      "7 -> 과자\n",
      "8 -> 구기/필드스포츠\n",
      "9 -> 기타(비상품)\n",
      "10 -> 기타상품\n",
      "11 -> 남성의류\n",
      "12 -> 냉동식품\n",
      "13 -> 냉장/세탁가전\n",
      "14 -> 냉장식품\n",
      "15 -> 담배\n",
      "16 -> 대용식\n",
      "17 -> 모바일\n",
      "18 -> 문구/사무용품\n",
      "19 -> 병통조림\n",
      "20 -> 상품권\n",
      "21 -> 생활/렌탈서비스\n",
      "22 -> 생활/주방가전\n",
      "23 -> 서적/음반/악기\n",
      "24 -> 세제/위생\n",
      "25 -> 속옷/양말/홈웨어\n",
      "26 -> 수산물\n",
      "27 -> 스포츠패션\n",
      "28 -> 시즌스포츠\n",
      "29 -> 식기/조리기구\n",
      "30 -> 아웃도어/레저\n",
      "31 -> 양곡\n",
      "32 -> 여성의류\n",
      "33 -> 여행/레저서비스\n",
      "34 -> 영상/음향가전\n",
      "35 -> 완구\n",
      "36 -> 원예/애완\n",
      "37 -> 유아동의류\n",
      "38 -> 유아식품\n",
      "39 -> 유제품\n",
      "40 -> 음료\n",
      "41 -> 인테리어/조명\n",
      "42 -> 자동차용품\n",
      "43 -> 조리식품\n",
      "44 -> 조미료\n",
      "45 -> 주류\n",
      "46 -> 주방잡화\n",
      "47 -> 채소\n",
      "48 -> 청소/세탁/욕실용품\n",
      "49 -> 축산물\n",
      "50 -> 출산/육아용품\n",
      "51 -> 침구/수예\n",
      "52 -> 커피/차\n",
      "53 -> 컴퓨터\n",
      "54 -> 테넌트/음식점\n",
      "55 -> 패션잡화\n",
      "56 -> 퍼스널케어\n",
      "57 -> 헬스/피트니스\n",
      "58 -> 화장품/뷰티케어\n"
     ]
    }
   ],
   "source": [
    "for i, label in enumerate(le2.classes_):\n",
    "    print(i, '->', label)"
   ],
   "metadata": {
    "collapsed": false,
    "pycharm": {
     "name": "#%%\n"
    }
   }
  },
  {
   "cell_type": "markdown",
   "source": [
    "#  test dataset load and preprocess"
   ],
   "metadata": {
    "collapsed": false,
    "pycharm": {
     "name": "#%% md\n"
    }
   }
  },
  {
   "cell_type": "code",
   "execution_count": 120,
   "outputs": [],
   "source": [
    "cop_test = pd.read_csv(\"C:\\\\Users\\kimhongbum\\PycharmProjects\\Lotte_competition\\data\\cop_final.csv\")\n",
    "lpay_test = pd.read_csv(\"C:\\\\Users\\kimhongbum\\PycharmProjects\\Lotte_competition\\data\\lpay_final.csv\")\n",
    "cop_test.drop(columns = [\"Unnamed: 0.1\", \"Unnamed: 0\"], inplace =True)\n",
    "lpay_test.drop(columns = [\"Unnamed: 0.1\", \"Unnamed: 0\"], inplace =True)\n",
    "cop_test[\"날짜\"] = cop_test['날짜'].replace('-','', regex=True)\n",
    "lpay_test[\"날짜\"] = lpay_test['날짜'].replace('-','', regex=True)"
   ],
   "metadata": {
    "collapsed": false,
    "pycharm": {
     "name": "#%%\n"
    }
   }
  },
  {
   "cell_type": "markdown",
   "source": [],
   "metadata": {
    "collapsed": false,
    "pycharm": {
     "name": "#%% md\n"
    }
   }
  },
  {
   "cell_type": "code",
   "execution_count": 121,
   "outputs": [],
   "source": [
    "coptest = preprocess(cop_test)\n",
    "lpaytest = preprocess(lpay_test)\n",
    "#label 인코딩 진행\n",
    "le1 = LabelEncoder()\n",
    "coptest['zon_hlv'] = le1.fit_transform(coptest['zon_hlv'])\n",
    "lpaytest['zon_hlv'] = le1.fit_transform(lpaytest['zon_hlv'])"
   ],
   "metadata": {
    "collapsed": false,
    "pycharm": {
     "name": "#%%\n"
    }
   }
  },
  {
   "cell_type": "code",
   "execution_count": 122,
   "metadata": {
    "collapsed": false,
    "pycharm": {
     "name": "#%%\n"
    }
   },
   "outputs": [],
   "source": [
    "data_clustering.drop(columns = [ 'cop_c','cust', 'rct_no', 'br_c', 'pd_c', 'de_dt', 'de_hr', 'pd_nm', 'clac_mcls_nm', 'zon_mcls', \"날짜\" ,\"year\", \"month\", \"요일\", 'buy_ct'], inplace =True)"
   ]
  },
  {
   "cell_type": "markdown",
   "source": [
    "# 고객 분류 모델(cluster 분류)"
   ],
   "metadata": {
    "collapsed": false,
    "pycharm": {
     "name": "#%% md\n"
    }
   }
  },
  {
   "cell_type": "code",
   "execution_count": 125,
   "outputs": [],
   "source": [
    "from sklearn.model_selection import train_test_split\n",
    "from xgboost import XGBClassifier\n",
    "from sklearn.model_selection import GridSearchCV\n",
    "from xgboost import plot_importance\n",
    "from matplotlib import pyplot as plt\n",
    "plt.rc('font',family='NanumGothic')\n",
    "%matplotlib inline"
   ],
   "metadata": {
    "collapsed": false,
    "pycharm": {
     "name": "#%%\n"
    }
   }
  },
  {
   "cell_type": "code",
   "execution_count": 126,
   "outputs": [],
   "source": [
    "customer_forecast = data_clustering.drop(columns = ['clac_hlv_nm'])"
   ],
   "metadata": {
    "collapsed": false,
    "pycharm": {
     "name": "#%%\n"
    }
   }
  },
  {
   "cell_type": "code",
   "execution_count": 127,
   "outputs": [
    {
     "data": {
      "text/plain": "['ma_fem_dv',\n 'ages',\n 'zon_hlv',\n 'chnl_dv',\n 'buy_am',\n '강수량(mm)',\n '평균기온(℃)',\n '최저기온(℃)',\n '최고기온(℃)',\n '평균습도(%rh)',\n '최저습도(%rh)',\n '일조합(hr)',\n '일사합(MJ/m2)',\n '일교차',\n 'holiday_anniversary',\n 'k_mean_cluster',\n '불쾌지수']"
     },
     "execution_count": 127,
     "metadata": {},
     "output_type": "execute_result"
    }
   ],
   "source": [
    "columns1 = customer_forecast.columns.tolist()\n",
    "columns1"
   ],
   "metadata": {
    "collapsed": false,
    "pycharm": {
     "name": "#%%\n"
    }
   }
  },
  {
   "cell_type": "code",
   "execution_count": 129,
   "outputs": [],
   "source": [
    "dataset = customer_forecast.drop(columns = 'k_mean_cluster')\n",
    "y_label = customer_forecast['k_mean_cluster']"
   ],
   "metadata": {
    "collapsed": false,
    "pycharm": {
     "name": "#%%\n"
    }
   }
  },
  {
   "cell_type": "code",
   "execution_count": 130,
   "outputs": [],
   "source": [
    "X_train1, X_test1, y_train1, y_test1 = train_test_split(dataset, y_label, test_size=0.1, stratify = y_label)"
   ],
   "metadata": {
    "collapsed": false,
    "pycharm": {
     "name": "#%%\n"
    }
   }
  },
  {
   "cell_type": "code",
   "execution_count": 131,
   "outputs": [],
   "source": [
    "model1=XGBClassifier(booster='gbtree',\n",
    "                    colsample_bylevel=0.9,\n",
    "                    colsample_bytree=0.8,\n",
    "                    gamma=0,\n",
    "                    max_depth=8,\n",
    "                    min_child_weight=3,\n",
    "                    learning_rate=0.05,\n",
    "                    n_estimators=50,\n",
    "                    nthread=4,\n",
    "                objective='multi:softprob',\n",
    "                    random_state=2,\n",
    "                    #verbose = True\n",
    "                    )"
   ],
   "metadata": {
    "collapsed": false,
    "pycharm": {
     "name": "#%%\n"
    }
   }
  },
  {
   "cell_type": "code",
   "execution_count": 132,
   "outputs": [
    {
     "name": "stderr",
     "output_type": "stream",
     "text": [
      "C:\\Users\\kimhongbum\\AppData\\Local\\Programs\\Python\\Python39\\lib\\site-packages\\xgboost\\sklearn.py:793: UserWarning: `eval_metric` in `fit` method is deprecated for better compatibility with scikit-learn, use `eval_metric` in constructor or`set_params` instead.\n",
      "  warnings.warn(\n",
      "C:\\Users\\kimhongbum\\AppData\\Local\\Programs\\Python\\Python39\\lib\\site-packages\\xgboost\\sklearn.py:793: UserWarning: `early_stopping_rounds` in `fit` method is deprecated for better compatibility with scikit-learn, use `early_stopping_rounds` in constructor or`set_params` instead.\n",
      "  warnings.warn(\n"
     ]
    },
    {
     "name": "stdout",
     "output_type": "stream",
     "text": [
      "[0]\tvalidation_0-mlogloss:1.03730\tvalidation_0-auc:0.99982\n",
      "[1]\tvalidation_0-mlogloss:0.96926\tvalidation_0-auc:1.00000\n",
      "[2]\tvalidation_0-mlogloss:0.91916\tvalidation_0-auc:1.00000\n",
      "[3]\tvalidation_0-mlogloss:0.87285\tvalidation_0-auc:1.00000\n",
      "[4]\tvalidation_0-mlogloss:0.82871\tvalidation_0-auc:1.00000\n",
      "[5]\tvalidation_0-mlogloss:0.79674\tvalidation_0-auc:1.00000\n",
      "[6]\tvalidation_0-mlogloss:0.75759\tvalidation_0-auc:1.00000\n",
      "[7]\tvalidation_0-mlogloss:0.72099\tvalidation_0-auc:1.00000\n",
      "[8]\tvalidation_0-mlogloss:0.68986\tvalidation_0-auc:1.00000\n",
      "[9]\tvalidation_0-mlogloss:0.65855\tvalidation_0-auc:1.00000\n",
      "[10]\tvalidation_0-mlogloss:0.62009\tvalidation_0-auc:1.00000\n",
      "[11]\tvalidation_0-mlogloss:0.58429\tvalidation_0-auc:1.00000\n",
      "[12]\tvalidation_0-mlogloss:0.56519\tvalidation_0-auc:1.00000\n",
      "[13]\tvalidation_0-mlogloss:0.53551\tvalidation_0-auc:1.00000\n",
      "[14]\tvalidation_0-mlogloss:0.50530\tvalidation_0-auc:1.00000\n",
      "[15]\tvalidation_0-mlogloss:0.47705\tvalidation_0-auc:1.00000\n",
      "[16]\tvalidation_0-mlogloss:0.45603\tvalidation_0-auc:1.00000\n",
      "[17]\tvalidation_0-mlogloss:0.43454\tvalidation_0-auc:1.00000\n",
      "[18]\tvalidation_0-mlogloss:0.41625\tvalidation_0-auc:1.00000\n",
      "[19]\tvalidation_0-mlogloss:0.39354\tvalidation_0-auc:1.00000\n",
      "[20]\tvalidation_0-mlogloss:0.37221\tvalidation_0-auc:1.00000\n",
      "[21]\tvalidation_0-mlogloss:0.35746\tvalidation_0-auc:1.00000\n",
      "[22]\tvalidation_0-mlogloss:0.34124\tvalidation_0-auc:1.00000\n",
      "[23]\tvalidation_0-mlogloss:0.32869\tvalidation_0-auc:1.00000\n",
      "[24]\tvalidation_0-mlogloss:0.31263\tvalidation_0-auc:1.00000\n",
      "[25]\tvalidation_0-mlogloss:0.29944\tvalidation_0-auc:1.00000\n",
      "[26]\tvalidation_0-mlogloss:0.28814\tvalidation_0-auc:1.00000\n",
      "[27]\tvalidation_0-mlogloss:0.27531\tvalidation_0-auc:1.00000\n",
      "[28]\tvalidation_0-mlogloss:0.26178\tvalidation_0-auc:1.00000\n",
      "[29]\tvalidation_0-mlogloss:0.25131\tvalidation_0-auc:1.00000\n",
      "[30]\tvalidation_0-mlogloss:0.23819\tvalidation_0-auc:1.00000\n",
      "[31]\tvalidation_0-mlogloss:0.22710\tvalidation_0-auc:1.00000\n",
      "[32]\tvalidation_0-mlogloss:0.21949\tvalidation_0-auc:1.00000\n",
      "[33]\tvalidation_0-mlogloss:0.21376\tvalidation_0-auc:1.00000\n",
      "[34]\tvalidation_0-mlogloss:0.20595\tvalidation_0-auc:1.00000\n",
      "[35]\tvalidation_0-mlogloss:0.20040\tvalidation_0-auc:1.00000\n",
      "[36]\tvalidation_0-mlogloss:0.19163\tvalidation_0-auc:1.00000\n",
      "[37]\tvalidation_0-mlogloss:0.18715\tvalidation_0-auc:1.00000\n",
      "[38]\tvalidation_0-mlogloss:0.18223\tvalidation_0-auc:1.00000\n",
      "[39]\tvalidation_0-mlogloss:0.17528\tvalidation_0-auc:1.00000\n",
      "[40]\tvalidation_0-mlogloss:0.16630\tvalidation_0-auc:1.00000\n",
      "[41]\tvalidation_0-mlogloss:0.16036\tvalidation_0-auc:1.00000\n",
      "[42]\tvalidation_0-mlogloss:0.15448\tvalidation_0-auc:1.00000\n",
      "[43]\tvalidation_0-mlogloss:0.14720\tvalidation_0-auc:1.00000\n",
      "[44]\tvalidation_0-mlogloss:0.14085\tvalidation_0-auc:1.00000\n",
      "[45]\tvalidation_0-mlogloss:0.13840\tvalidation_0-auc:1.00000\n",
      "[46]\tvalidation_0-mlogloss:0.13281\tvalidation_0-auc:1.00000\n",
      "[47]\tvalidation_0-mlogloss:0.12912\tvalidation_0-auc:1.00000\n",
      "[48]\tvalidation_0-mlogloss:0.12518\tvalidation_0-auc:1.00000\n",
      "[49]\tvalidation_0-mlogloss:0.12039\tvalidation_0-auc:1.00000\n"
     ]
    },
    {
     "data": {
      "text/plain": "XGBClassifier(base_score=0.5, booster='gbtree', callbacks=None,\n              colsample_bylevel=0.9, colsample_bynode=1, colsample_bytree=0.8,\n              early_stopping_rounds=None, enable_categorical=False,\n              eval_metric=None, gamma=0, gpu_id=-1, grow_policy='depthwise',\n              importance_type=None, interaction_constraints='',\n              learning_rate=0.05, max_bin=256, max_cat_to_onehot=4,\n              max_delta_step=0, max_depth=8, max_leaves=0, min_child_weight=3,\n              missing=nan, monotone_constraints='()', n_estimators=50, n_jobs=4,\n              nthread=4, num_parallel_tree=1, objective='multi:softprob',\n              predictor='auto', random_state=2, ...)",
      "text/html": "<style>#sk-container-id-4 {color: black;background-color: white;}#sk-container-id-4 pre{padding: 0;}#sk-container-id-4 div.sk-toggleable {background-color: white;}#sk-container-id-4 label.sk-toggleable__label {cursor: pointer;display: block;width: 100%;margin-bottom: 0;padding: 0.3em;box-sizing: border-box;text-align: center;}#sk-container-id-4 label.sk-toggleable__label-arrow:before {content: \"▸\";float: left;margin-right: 0.25em;color: #696969;}#sk-container-id-4 label.sk-toggleable__label-arrow:hover:before {color: black;}#sk-container-id-4 div.sk-estimator:hover label.sk-toggleable__label-arrow:before {color: black;}#sk-container-id-4 div.sk-toggleable__content {max-height: 0;max-width: 0;overflow: hidden;text-align: left;background-color: #f0f8ff;}#sk-container-id-4 div.sk-toggleable__content pre {margin: 0.2em;color: black;border-radius: 0.25em;background-color: #f0f8ff;}#sk-container-id-4 input.sk-toggleable__control:checked~div.sk-toggleable__content {max-height: 200px;max-width: 100%;overflow: auto;}#sk-container-id-4 input.sk-toggleable__control:checked~label.sk-toggleable__label-arrow:before {content: \"▾\";}#sk-container-id-4 div.sk-estimator input.sk-toggleable__control:checked~label.sk-toggleable__label {background-color: #d4ebff;}#sk-container-id-4 div.sk-label input.sk-toggleable__control:checked~label.sk-toggleable__label {background-color: #d4ebff;}#sk-container-id-4 input.sk-hidden--visually {border: 0;clip: rect(1px 1px 1px 1px);clip: rect(1px, 1px, 1px, 1px);height: 1px;margin: -1px;overflow: hidden;padding: 0;position: absolute;width: 1px;}#sk-container-id-4 div.sk-estimator {font-family: monospace;background-color: #f0f8ff;border: 1px dotted black;border-radius: 0.25em;box-sizing: border-box;margin-bottom: 0.5em;}#sk-container-id-4 div.sk-estimator:hover {background-color: #d4ebff;}#sk-container-id-4 div.sk-parallel-item::after {content: \"\";width: 100%;border-bottom: 1px solid gray;flex-grow: 1;}#sk-container-id-4 div.sk-label:hover label.sk-toggleable__label {background-color: #d4ebff;}#sk-container-id-4 div.sk-serial::before {content: \"\";position: absolute;border-left: 1px solid gray;box-sizing: border-box;top: 0;bottom: 0;left: 50%;z-index: 0;}#sk-container-id-4 div.sk-serial {display: flex;flex-direction: column;align-items: center;background-color: white;padding-right: 0.2em;padding-left: 0.2em;position: relative;}#sk-container-id-4 div.sk-item {position: relative;z-index: 1;}#sk-container-id-4 div.sk-parallel {display: flex;align-items: stretch;justify-content: center;background-color: white;position: relative;}#sk-container-id-4 div.sk-item::before, #sk-container-id-4 div.sk-parallel-item::before {content: \"\";position: absolute;border-left: 1px solid gray;box-sizing: border-box;top: 0;bottom: 0;left: 50%;z-index: -1;}#sk-container-id-4 div.sk-parallel-item {display: flex;flex-direction: column;z-index: 1;position: relative;background-color: white;}#sk-container-id-4 div.sk-parallel-item:first-child::after {align-self: flex-end;width: 50%;}#sk-container-id-4 div.sk-parallel-item:last-child::after {align-self: flex-start;width: 50%;}#sk-container-id-4 div.sk-parallel-item:only-child::after {width: 0;}#sk-container-id-4 div.sk-dashed-wrapped {border: 1px dashed gray;margin: 0 0.4em 0.5em 0.4em;box-sizing: border-box;padding-bottom: 0.4em;background-color: white;}#sk-container-id-4 div.sk-label label {font-family: monospace;font-weight: bold;display: inline-block;line-height: 1.2em;}#sk-container-id-4 div.sk-label-container {text-align: center;}#sk-container-id-4 div.sk-container {/* jupyter's `normalize.less` sets `[hidden] { display: none; }` but bootstrap.min.css set `[hidden] { display: none !important; }` so we also need the `!important` here to be able to override the default hidden behavior on the sphinx rendered scikit-learn.org. See: https://github.com/scikit-learn/scikit-learn/issues/21755 */display: inline-block !important;position: relative;}#sk-container-id-4 div.sk-text-repr-fallback {display: none;}</style><div id=\"sk-container-id-4\" class=\"sk-top-container\"><div class=\"sk-text-repr-fallback\"><pre>XGBClassifier(base_score=0.5, booster=&#x27;gbtree&#x27;, callbacks=None,\n              colsample_bylevel=0.9, colsample_bynode=1, colsample_bytree=0.8,\n              early_stopping_rounds=None, enable_categorical=False,\n              eval_metric=None, gamma=0, gpu_id=-1, grow_policy=&#x27;depthwise&#x27;,\n              importance_type=None, interaction_constraints=&#x27;&#x27;,\n              learning_rate=0.05, max_bin=256, max_cat_to_onehot=4,\n              max_delta_step=0, max_depth=8, max_leaves=0, min_child_weight=3,\n              missing=nan, monotone_constraints=&#x27;()&#x27;, n_estimators=50, n_jobs=4,\n              nthread=4, num_parallel_tree=1, objective=&#x27;multi:softprob&#x27;,\n              predictor=&#x27;auto&#x27;, random_state=2, ...)</pre><b>In a Jupyter environment, please rerun this cell to show the HTML representation or trust the notebook. <br />On GitHub, the HTML representation is unable to render, please try loading this page with nbviewer.org.</b></div><div class=\"sk-container\" hidden><div class=\"sk-item\"><div class=\"sk-estimator sk-toggleable\"><input class=\"sk-toggleable__control sk-hidden--visually\" id=\"sk-estimator-id-4\" type=\"checkbox\" checked><label for=\"sk-estimator-id-4\" class=\"sk-toggleable__label sk-toggleable__label-arrow\">XGBClassifier</label><div class=\"sk-toggleable__content\"><pre>XGBClassifier(base_score=0.5, booster=&#x27;gbtree&#x27;, callbacks=None,\n              colsample_bylevel=0.9, colsample_bynode=1, colsample_bytree=0.8,\n              early_stopping_rounds=None, enable_categorical=False,\n              eval_metric=None, gamma=0, gpu_id=-1, grow_policy=&#x27;depthwise&#x27;,\n              importance_type=None, interaction_constraints=&#x27;&#x27;,\n              learning_rate=0.05, max_bin=256, max_cat_to_onehot=4,\n              max_delta_step=0, max_depth=8, max_leaves=0, min_child_weight=3,\n              missing=nan, monotone_constraints=&#x27;()&#x27;, n_estimators=50, n_jobs=4,\n              nthread=4, num_parallel_tree=1, objective=&#x27;multi:softprob&#x27;,\n              predictor=&#x27;auto&#x27;, random_state=2, ...)</pre></div></div></div></div></div>"
     },
     "execution_count": 132,
     "metadata": {},
     "output_type": "execute_result"
    }
   ],
   "source": [
    "model1.fit(X_train1,y_train1, eval_set=[(X_test1,y_test1)],\n",
    "             eval_metric = ['mlogloss', 'auc'],\n",
    "             early_stopping_rounds=100,verbose=True)"
   ],
   "metadata": {
    "collapsed": false,
    "pycharm": {
     "name": "#%%\n"
    }
   }
  },
  {
   "cell_type": "code",
   "execution_count": 162,
   "outputs": [],
   "source": [
    "#모델 저장\n",
    "import pickle\n",
    "import xgboost as xgb\n",
    "filename = 'model1.model'\n",
    "model1.save_model(filename)"
   ],
   "metadata": {
    "collapsed": false,
    "pycharm": {
     "name": "#%%\n"
    }
   }
  },
  {
   "cell_type": "code",
   "execution_count": 193,
   "outputs": [
    {
     "data": {
      "text/plain": "<Figure size 1440x720 with 1 Axes>",
      "image/png": "[encoded data removed]"
     },
     "metadata": {
      "needs_background": "light"
     },
     "output_type": "display_data"
    },
    {
     "data": {
      "text/plain": "<Figure size 1440x1440 with 0 Axes>"
     },
     "metadata": {},
     "output_type": "display_data"
    }
   ],
   "source": [
    "import matplotlib.pyplot as plt\n",
    "import matplotlib\n",
    "from matplotlib.pyplot import *\n",
    "\n",
    "matplotlib.rcParams['font.family'] ='Malgun Gothic'\n",
    "plot_importance(model1, color = \"red\")\n",
    "plt.figure(figsize=(20,20))\n",
    "plt.show()\n"
   ],
   "metadata": {
    "collapsed": false,
    "pycharm": {
     "name": "#%%\n"
    }
   }
  },
  {
   "cell_type": "code",
   "execution_count": 134,
   "outputs": [],
   "source": [
    "coptest1 = pd.DataFrame(coptest, columns = columns1)\n",
    "coptest1.drop(columns = ['k_mean_cluster'], inplace =True)\n",
    "lpaytest1 = pd.DataFrame(lpaytest, columns = columns1)\n",
    "lpaytest1.drop(columns = ['k_mean_cluster'], inplace =True)"
   ],
   "metadata": {
    "collapsed": false,
    "pycharm": {
     "name": "#%%\n"
    }
   }
  },
  {
   "cell_type": "code",
   "execution_count": 135,
   "outputs": [],
   "source": [
    "coptest['k_mean_cluster'] = model1.predict(coptest1)\n",
    "lpaytest['k_mean_cluster'] = model1.predict(lpaytest1)"
   ],
   "metadata": {
    "collapsed": false,
    "pycharm": {
     "name": "#%%\n"
    }
   }
  },
  {
   "cell_type": "markdown",
   "source": [
    "# 상품 추천 모델"
   ],
   "metadata": {
    "collapsed": false,
    "pycharm": {
     "name": "#%% md\n"
    }
   }
  },
  {
   "cell_type": "code",
   "execution_count": 137,
   "metadata": {
    "collapsed": false,
    "pycharm": {
     "name": "#%%\n"
    }
   },
   "outputs": [],
   "source": [
    "dataset = data_clustering.drop(columns = 'clac_hlv_nm')\n",
    "y_label = data_clustering['clac_hlv_nm']"
   ]
  },
  {
   "cell_type": "code",
   "execution_count": 138,
   "outputs": [
    {
     "data": {
      "text/plain": "['ma_fem_dv',\n 'ages',\n 'zon_hlv',\n 'chnl_dv',\n 'buy_am',\n '강수량(mm)',\n '평균기온(℃)',\n '최저기온(℃)',\n '최고기온(℃)',\n '평균습도(%rh)',\n '최저습도(%rh)',\n '일조합(hr)',\n '일사합(MJ/m2)',\n '일교차',\n 'holiday_anniversary',\n 'k_mean_cluster',\n '불쾌지수']"
     },
     "execution_count": 138,
     "metadata": {},
     "output_type": "execute_result"
    }
   ],
   "source": [
    "columns2 = dataset.columns.tolist()\n",
    "columns2"
   ],
   "metadata": {
    "collapsed": false,
    "pycharm": {
     "name": "#%%\n"
    }
   }
  },
  {
   "cell_type": "code",
   "execution_count": 139,
   "metadata": {
    "pycharm": {
     "name": "#%%\n"
    }
   },
   "outputs": [],
   "source": [
    "X_train, X_test, y_train, y_test = train_test_split(dataset, y_label, test_size=0.1, stratify = y_label)"
   ]
  },
  {
   "cell_type": "markdown",
   "metadata": {
    "pycharm": {
     "name": "#%% md\n"
    }
   },
   "source": [
    "# 최적의 파라미터 선정 후 재학습 진행"
   ]
  },
  {
   "cell_type": "code",
   "execution_count": 140,
   "metadata": {
    "pycharm": {
     "name": "#%%\n"
    }
   },
   "outputs": [],
   "source": [
    "model2=XGBClassifier(booster='gbtree',\n",
    "                    colsample_bylevel=0.9,\n",
    "                    colsample_bytree=0.8,\n",
    "                    gamma=0,\n",
    "                    max_depth=8,\n",
    "                    min_child_weight=3,\n",
    "                    learning_rate=0.05,\n",
    "                    n_estimators=50,\n",
    "                    objective='multi:softprob',\n",
    "                    random_state=2,\n",
    "                    #verbose = True\n",
    "                    )"
   ]
  },
  {
   "cell_type": "code",
   "execution_count": 141,
   "metadata": {
    "pycharm": {
     "name": "#%%\n"
    }
   },
   "outputs": [
    {
     "name": "stderr",
     "output_type": "stream",
     "text": [
      "C:\\Users\\kimhongbum\\AppData\\Local\\Programs\\Python\\Python39\\lib\\site-packages\\xgboost\\sklearn.py:793: UserWarning: `eval_metric` in `fit` method is deprecated for better compatibility with scikit-learn, use `eval_metric` in constructor or`set_params` instead.\n",
      "  warnings.warn(\n",
      "C:\\Users\\kimhongbum\\AppData\\Local\\Programs\\Python\\Python39\\lib\\site-packages\\xgboost\\sklearn.py:793: UserWarning: `early_stopping_rounds` in `fit` method is deprecated for better compatibility with scikit-learn, use `early_stopping_rounds` in constructor or`set_params` instead.\n",
      "  warnings.warn(\n"
     ]
    },
    {
     "name": "stdout",
     "output_type": "stream",
     "text": [
      "[0]\tvalidation_0-mlogloss:3.91554\tvalidation_0-auc:0.77673\n",
      "[1]\tvalidation_0-mlogloss:3.81356\tvalidation_0-auc:0.78658\n",
      "[2]\tvalidation_0-mlogloss:3.74363\tvalidation_0-auc:0.79082\n",
      "[3]\tvalidation_0-mlogloss:3.66357\tvalidation_0-auc:0.80456\n",
      "[4]\tvalidation_0-mlogloss:3.59574\tvalidation_0-auc:0.80779\n",
      "[5]\tvalidation_0-mlogloss:3.53161\tvalidation_0-auc:0.81063\n",
      "[6]\tvalidation_0-mlogloss:3.47654\tvalidation_0-auc:0.81255\n",
      "[7]\tvalidation_0-mlogloss:3.42420\tvalidation_0-auc:0.81414\n",
      "[8]\tvalidation_0-mlogloss:3.37610\tvalidation_0-auc:0.81571\n",
      "[9]\tvalidation_0-mlogloss:3.33602\tvalidation_0-auc:0.81682\n",
      "[10]\tvalidation_0-mlogloss:3.29722\tvalidation_0-auc:0.81776\n",
      "[11]\tvalidation_0-mlogloss:3.26185\tvalidation_0-auc:0.81856\n",
      "[12]\tvalidation_0-mlogloss:3.23139\tvalidation_0-auc:0.81924\n",
      "[13]\tvalidation_0-mlogloss:3.19860\tvalidation_0-auc:0.82018\n",
      "[14]\tvalidation_0-mlogloss:3.16752\tvalidation_0-auc:0.82075\n",
      "[15]\tvalidation_0-mlogloss:3.14187\tvalidation_0-auc:0.82127\n",
      "[16]\tvalidation_0-mlogloss:3.11728\tvalidation_0-auc:0.82150\n",
      "[17]\tvalidation_0-mlogloss:3.09239\tvalidation_0-auc:0.82188\n",
      "[18]\tvalidation_0-mlogloss:3.06880\tvalidation_0-auc:0.82236\n",
      "[19]\tvalidation_0-mlogloss:3.04479\tvalidation_0-auc:0.82307\n",
      "[20]\tvalidation_0-mlogloss:3.02213\tvalidation_0-auc:0.82368\n",
      "[21]\tvalidation_0-mlogloss:3.00314\tvalidation_0-auc:0.82405\n",
      "[22]\tvalidation_0-mlogloss:2.98363\tvalidation_0-auc:0.82444\n",
      "[23]\tvalidation_0-mlogloss:2.96517\tvalidation_0-auc:0.82507\n",
      "[24]\tvalidation_0-mlogloss:2.94726\tvalidation_0-auc:0.82540\n",
      "[25]\tvalidation_0-mlogloss:2.93074\tvalidation_0-auc:0.82577\n",
      "[26]\tvalidation_0-mlogloss:2.91481\tvalidation_0-auc:0.82637\n",
      "[27]\tvalidation_0-mlogloss:2.90061\tvalidation_0-auc:0.82662\n",
      "[28]\tvalidation_0-mlogloss:2.88590\tvalidation_0-auc:0.82709\n",
      "[29]\tvalidation_0-mlogloss:2.87213\tvalidation_0-auc:0.82748\n",
      "[30]\tvalidation_0-mlogloss:2.85858\tvalidation_0-auc:0.82779\n",
      "[31]\tvalidation_0-mlogloss:2.84631\tvalidation_0-auc:0.82812\n",
      "[32]\tvalidation_0-mlogloss:2.83409\tvalidation_0-auc:0.82853\n",
      "[33]\tvalidation_0-mlogloss:2.82188\tvalidation_0-auc:0.82876\n",
      "[34]\tvalidation_0-mlogloss:2.81077\tvalidation_0-auc:0.82908\n",
      "[35]\tvalidation_0-mlogloss:2.79932\tvalidation_0-auc:0.82940\n",
      "[36]\tvalidation_0-mlogloss:2.78901\tvalidation_0-auc:0.82969\n",
      "[37]\tvalidation_0-mlogloss:2.77915\tvalidation_0-auc:0.83002\n",
      "[38]\tvalidation_0-mlogloss:2.76903\tvalidation_0-auc:0.83047\n",
      "[39]\tvalidation_0-mlogloss:2.75938\tvalidation_0-auc:0.83083\n",
      "[40]\tvalidation_0-mlogloss:2.75007\tvalidation_0-auc:0.83112\n",
      "[41]\tvalidation_0-mlogloss:2.74138\tvalidation_0-auc:0.83136\n",
      "[42]\tvalidation_0-mlogloss:2.73275\tvalidation_0-auc:0.83165\n",
      "[43]\tvalidation_0-mlogloss:2.72396\tvalidation_0-auc:0.83193\n",
      "[44]\tvalidation_0-mlogloss:2.71618\tvalidation_0-auc:0.83217\n",
      "[45]\tvalidation_0-mlogloss:2.70851\tvalidation_0-auc:0.83239\n",
      "[46]\tvalidation_0-mlogloss:2.70175\tvalidation_0-auc:0.83255\n",
      "[47]\tvalidation_0-mlogloss:2.69400\tvalidation_0-auc:0.83287\n",
      "[48]\tvalidation_0-mlogloss:2.68718\tvalidation_0-auc:0.83308\n",
      "[49]\tvalidation_0-mlogloss:2.67986\tvalidation_0-auc:0.83341\n"
     ]
    },
    {
     "data": {
      "text/plain": "XGBClassifier(base_score=0.5, booster='gbtree', callbacks=None,\n              colsample_bylevel=0.9, colsample_bynode=1, colsample_bytree=0.8,\n              early_stopping_rounds=None, enable_categorical=False,\n              eval_metric=None, gamma=0, gpu_id=-1, grow_policy='depthwise',\n              importance_type=None, interaction_constraints='',\n              learning_rate=0.05, max_bin=256, max_cat_to_onehot=4,\n              max_delta_step=0, max_depth=8, max_leaves=0, min_child_weight=3,\n              missing=nan, monotone_constraints='()', n_estimators=50, n_jobs=0,\n              num_parallel_tree=1, objective='multi:softprob', predictor='auto',\n              random_state=2, reg_alpha=0, ...)",
      "text/html": "<style>#sk-container-id-5 {color: black;background-color: white;}#sk-container-id-5 pre{padding: 0;}#sk-container-id-5 div.sk-toggleable {background-color: white;}#sk-container-id-5 label.sk-toggleable__label {cursor: pointer;display: block;width: 100%;margin-bottom: 0;padding: 0.3em;box-sizing: border-box;text-align: center;}#sk-container-id-5 label.sk-toggleable__label-arrow:before {content: \"▸\";float: left;margin-right: 0.25em;color: #696969;}#sk-container-id-5 label.sk-toggleable__label-arrow:hover:before {color: black;}#sk-container-id-5 div.sk-estimator:hover label.sk-toggleable__label-arrow:before {color: black;}#sk-container-id-5 div.sk-toggleable__content {max-height: 0;max-width: 0;overflow: hidden;text-align: left;background-color: #f0f8ff;}#sk-container-id-5 div.sk-toggleable__content pre {margin: 0.2em;color: black;border-radius: 0.25em;background-color: #f0f8ff;}#sk-container-id-5 input.sk-toggleable__control:checked~div.sk-toggleable__content {max-height: 200px;max-width: 100%;overflow: auto;}#sk-container-id-5 input.sk-toggleable__control:checked~label.sk-toggleable__label-arrow:before {content: \"▾\";}#sk-container-id-5 div.sk-estimator input.sk-toggleable__control:checked~label.sk-toggleable__label {background-color: #d4ebff;}#sk-container-id-5 div.sk-label input.sk-toggleable__control:checked~label.sk-toggleable__label {background-color: #d4ebff;}#sk-container-id-5 input.sk-hidden--visually {border: 0;clip: rect(1px 1px 1px 1px);clip: rect(1px, 1px, 1px, 1px);height: 1px;margin: -1px;overflow: hidden;padding: 0;position: absolute;width: 1px;}#sk-container-id-5 div.sk-estimator {font-family: monospace;background-color: #f0f8ff;border: 1px dotted black;border-radius: 0.25em;box-sizing: border-box;margin-bottom: 0.5em;}#sk-container-id-5 div.sk-estimator:hover {background-color: #d4ebff;}#sk-container-id-5 div.sk-parallel-item::after {content: \"\";width: 100%;border-bottom: 1px solid gray;flex-grow: 1;}#sk-container-id-5 div.sk-label:hover label.sk-toggleable__label {background-color: #d4ebff;}#sk-container-id-5 div.sk-serial::before {content: \"\";position: absolute;border-left: 1px solid gray;box-sizing: border-box;top: 0;bottom: 0;left: 50%;z-index: 0;}#sk-container-id-5 div.sk-serial {display: flex;flex-direction: column;align-items: center;background-color: white;padding-right: 0.2em;padding-left: 0.2em;position: relative;}#sk-container-id-5 div.sk-item {position: relative;z-index: 1;}#sk-container-id-5 div.sk-parallel {display: flex;align-items: stretch;justify-content: center;background-color: white;position: relative;}#sk-container-id-5 div.sk-item::before, #sk-container-id-5 div.sk-parallel-item::before {content: \"\";position: absolute;border-left: 1px solid gray;box-sizing: border-box;top: 0;bottom: 0;left: 50%;z-index: -1;}#sk-container-id-5 div.sk-parallel-item {display: flex;flex-direction: column;z-index: 1;position: relative;background-color: white;}#sk-container-id-5 div.sk-parallel-item:first-child::after {align-self: flex-end;width: 50%;}#sk-container-id-5 div.sk-parallel-item:last-child::after {align-self: flex-start;width: 50%;}#sk-container-id-5 div.sk-parallel-item:only-child::after {width: 0;}#sk-container-id-5 div.sk-dashed-wrapped {border: 1px dashed gray;margin: 0 0.4em 0.5em 0.4em;box-sizing: border-box;padding-bottom: 0.4em;background-color: white;}#sk-container-id-5 div.sk-label label {font-family: monospace;font-weight: bold;display: inline-block;line-height: 1.2em;}#sk-container-id-5 div.sk-label-container {text-align: center;}#sk-container-id-5 div.sk-container {/* jupyter's `normalize.less` sets `[hidden] { display: none; }` but bootstrap.min.css set `[hidden] { display: none !important; }` so we also need the `!important` here to be able to override the default hidden behavior on the sphinx rendered scikit-learn.org. See: https://github.com/scikit-learn/scikit-learn/issues/21755 */display: inline-block !important;position: relative;}#sk-container-id-5 div.sk-text-repr-fallback {display: none;}</style><div id=\"sk-container-id-5\" class=\"sk-top-container\"><div class=\"sk-text-repr-fallback\"><pre>XGBClassifier(base_score=0.5, booster=&#x27;gbtree&#x27;, callbacks=None,\n              colsample_bylevel=0.9, colsample_bynode=1, colsample_bytree=0.8,\n              early_stopping_rounds=None, enable_categorical=False,\n              eval_metric=None, gamma=0, gpu_id=-1, grow_policy=&#x27;depthwise&#x27;,\n              importance_type=None, interaction_constraints=&#x27;&#x27;,\n              learning_rate=0.05, max_bin=256, max_cat_to_onehot=4,\n              max_delta_step=0, max_depth=8, max_leaves=0, min_child_weight=3,\n              missing=nan, monotone_constraints=&#x27;()&#x27;, n_estimators=50, n_jobs=0,\n              num_parallel_tree=1, objective=&#x27;multi:softprob&#x27;, predictor=&#x27;auto&#x27;,\n              random_state=2, reg_alpha=0, ...)</pre><b>In a Jupyter environment, please rerun this cell to show the HTML representation or trust the notebook. <br />On GitHub, the HTML representation is unable to render, please try loading this page with nbviewer.org.</b></div><div class=\"sk-container\" hidden><div class=\"sk-item\"><div class=\"sk-estimator sk-toggleable\"><input class=\"sk-toggleable__control sk-hidden--visually\" id=\"sk-estimator-id-5\" type=\"checkbox\" checked><label for=\"sk-estimator-id-5\" class=\"sk-toggleable__label sk-toggleable__label-arrow\">XGBClassifier</label><div class=\"sk-toggleable__content\"><pre>XGBClassifier(base_score=0.5, booster=&#x27;gbtree&#x27;, callbacks=None,\n              colsample_bylevel=0.9, colsample_bynode=1, colsample_bytree=0.8,\n              early_stopping_rounds=None, enable_categorical=False,\n              eval_metric=None, gamma=0, gpu_id=-1, grow_policy=&#x27;depthwise&#x27;,\n              importance_type=None, interaction_constraints=&#x27;&#x27;,\n              learning_rate=0.05, max_bin=256, max_cat_to_onehot=4,\n              max_delta_step=0, max_depth=8, max_leaves=0, min_child_weight=3,\n              missing=nan, monotone_constraints=&#x27;()&#x27;, n_estimators=50, n_jobs=0,\n              num_parallel_tree=1, objective=&#x27;multi:softprob&#x27;, predictor=&#x27;auto&#x27;,\n              random_state=2, reg_alpha=0, ...)</pre></div></div></div></div></div>"
     },
     "execution_count": 141,
     "metadata": {},
     "output_type": "execute_result"
    }
   ],
   "source": [
    "model2.fit(X_train,y_train, eval_set=[(X_test,y_test)],\n",
    "             eval_metric = ['mlogloss', 'auc'],\n",
    "             early_stopping_rounds=10,verbose=True)"
   ]
  },
  {
   "cell_type": "code",
   "execution_count": 163,
   "outputs": [],
   "source": [
    "#모델 저장\n",
    "filename = 'model2.model'\n",
    "model2.save_model(filename)"
   ],
   "metadata": {
    "collapsed": false,
    "pycharm": {
     "name": "#%%\n"
    }
   }
  },
  {
   "cell_type": "code",
   "execution_count": 194,
   "outputs": [
    {
     "data": {
      "text/plain": "<Figure size 1440x720 with 1 Axes>",
      "image/png": "[encoded data removed]"
     },
     "metadata": {
      "needs_background": "light"
     },
     "output_type": "display_data"
    },
    {
     "data": {
      "text/plain": "<Figure size 1440x1440 with 0 Axes>"
     },
     "metadata": {},
     "output_type": "display_data"
    }
   ],
   "source": [
    "import matplotlib.pyplot as plt\n",
    "import matplotlib\n",
    "from matplotlib.pyplot import *\n",
    "\n",
    "matplotlib.rcParams['font.family'] ='Malgun Gothic'\n",
    "plot_importance(model2, color = \"red\")\n",
    "plt.figure(figsize=(20,20))\n",
    "plt.show()\n"
   ],
   "metadata": {
    "collapsed": false,
    "pycharm": {
     "name": "#%%\n"
    }
   }
  },
  {
   "cell_type": "code",
   "execution_count": 150,
   "outputs": [],
   "source": [
    "coptest2 = pd.DataFrame(coptest, columns = columns2)\n",
    "#coptest1.drop(columns = ['k_mean_cluster'], inplace =True)\n",
    "lpaytest2 = pd.DataFrame(lpaytest, columns = columns2)\n",
    "#lpaytest1.drop(columns = ['k_mean_cluster'], inplace =True)"
   ],
   "metadata": {
    "collapsed": false,
    "pycharm": {
     "name": "#%%\n"
    }
   }
  },
  {
   "cell_type": "code",
   "execution_count": 155,
   "outputs": [],
   "source": [
    "coptest['clac_hlv_nm'] = model2.predict(coptest2)\n",
    "lpaytest['clac_hlv_nm'] = model2.predict(lpaytest2)"
   ],
   "metadata": {
    "collapsed": false,
    "pycharm": {
     "name": "#%%\n"
    }
   }
  },
  {
   "cell_type": "code",
   "execution_count": 160,
   "outputs": [],
   "source": [
    "coptest['clac_hlv_nm'] = le2.inverse_transform(coptest['clac_hlv_nm'])\n",
    "lpaytest['clac_hlv_nm'] = le2.inverse_transform(lpaytest['clac_hlv_nm'])"
   ],
   "metadata": {
    "collapsed": false,
    "pycharm": {
     "name": "#%%\n"
    }
   }
  },
  {
   "cell_type": "code",
   "execution_count": 164,
   "outputs": [
    {
     "data": {
      "text/plain": "         cust              rct_no cop_c     br_c  chnl_dv      de_dt  \\\n0  M839993508  21102612B015763935   B01  B010012        1 2021-10-26   \n1  M839993508  21110610B014219744   B01  B010012        1 2021-11-06   \n2  M839993508  21021112B013419710   B01  B010012        1 2021-02-11   \n\n     vst_dt  de_hr  buy_am  ma_fem_dv  ages  zon_hlv zon_mcls        날짜  \\\n0  20211026     12   60000          0     5       16   Z17024  20211026   \n1  20211106     10   17100          0     5       16   Z17024  20211106   \n2  20210211     12  136500          0     5       16   Z17024  20210211   \n\n   강수량(mm)  평균기온(℃)  최저기온(℃)  최고기온(℃)  평균습도(%rh)  최저습도(%rh)  일조합(hr)  \\\n0      0.0     11.3      4.6     19.1       73.0       10.0      9.1   \n1      0.0     12.7      6.6     20.3       70.0       19.0      8.4   \n2      0.0      4.4     -1.5     11.3       68.0       13.0      5.8   \n\n   일사합(MJ/m2)  year  month  요일   일교차      불쾌지수  holiday_anniversary  \\\n0       13.98  2021     10   1  14.5  53.18051                    0   \n1       12.49  2021     11   5  13.7  55.37810                    1   \n2       11.61  2021      2   3  12.8  43.10208                    0   \n\n   k_mean_cluster clac_hlv_nm  \n0               0     테넌트/음식점  \n1               2         축산물  \n2               0       스포츠패션  ",
      "text/html": "<div>\n<style scoped>\n    .dataframe tbody tr th:only-of-type {\n        vertical-align: middle;\n    }\n\n    .dataframe tbody tr th {\n        vertical-align: top;\n    }\n\n    .dataframe thead th {\n        text-align: right;\n    }\n</style>\n<table border=\"1\" class=\"dataframe\">\n  <thead>\n    <tr style=\"text-align: right;\">\n      <th></th>\n      <th>cust</th>\n      <th>rct_no</th>\n      <th>cop_c</th>\n      <th>br_c</th>\n      <th>chnl_dv</th>\n      <th>de_dt</th>\n      <th>vst_dt</th>\n      <th>de_hr</th>\n      <th>buy_am</th>\n      <th>ma_fem_dv</th>\n      <th>ages</th>\n      <th>zon_hlv</th>\n      <th>zon_mcls</th>\n      <th>날짜</th>\n      <th>강수량(mm)</th>\n      <th>평균기온(℃)</th>\n      <th>최저기온(℃)</th>\n      <th>최고기온(℃)</th>\n      <th>평균습도(%rh)</th>\n      <th>최저습도(%rh)</th>\n      <th>일조합(hr)</th>\n      <th>일사합(MJ/m2)</th>\n      <th>year</th>\n      <th>month</th>\n      <th>요일</th>\n      <th>일교차</th>\n      <th>불쾌지수</th>\n      <th>holiday_anniversary</th>\n      <th>k_mean_cluster</th>\n      <th>clac_hlv_nm</th>\n    </tr>\n  </thead>\n  <tbody>\n    <tr>\n      <th>0</th>\n      <td>M839993508</td>\n      <td>21102612B015763935</td>\n      <td>B01</td>\n      <td>B010012</td>\n      <td>1</td>\n      <td>2021-10-26</td>\n      <td>20211026</td>\n      <td>12</td>\n      <td>60000</td>\n      <td>0</td>\n      <td>5</td>\n      <td>16</td>\n      <td>Z17024</td>\n      <td>20211026</td>\n      <td>0.0</td>\n      <td>11.3</td>\n      <td>4.6</td>\n      <td>19.1</td>\n      <td>73.0</td>\n      <td>10.0</td>\n      <td>9.1</td>\n      <td>13.98</td>\n      <td>2021</td>\n      <td>10</td>\n      <td>1</td>\n      <td>14.5</td>\n      <td>53.18051</td>\n      <td>0</td>\n      <td>0</td>\n      <td>테넌트/음식점</td>\n    </tr>\n    <tr>\n      <th>1</th>\n      <td>M839993508</td>\n      <td>21110610B014219744</td>\n      <td>B01</td>\n      <td>B010012</td>\n      <td>1</td>\n      <td>2021-11-06</td>\n      <td>20211106</td>\n      <td>10</td>\n      <td>17100</td>\n      <td>0</td>\n      <td>5</td>\n      <td>16</td>\n      <td>Z17024</td>\n      <td>20211106</td>\n      <td>0.0</td>\n      <td>12.7</td>\n      <td>6.6</td>\n      <td>20.3</td>\n      <td>70.0</td>\n      <td>19.0</td>\n      <td>8.4</td>\n      <td>12.49</td>\n      <td>2021</td>\n      <td>11</td>\n      <td>5</td>\n      <td>13.7</td>\n      <td>55.37810</td>\n      <td>1</td>\n      <td>2</td>\n      <td>축산물</td>\n    </tr>\n    <tr>\n      <th>2</th>\n      <td>M839993508</td>\n      <td>21021112B013419710</td>\n      <td>B01</td>\n      <td>B010012</td>\n      <td>1</td>\n      <td>2021-02-11</td>\n      <td>20210211</td>\n      <td>12</td>\n      <td>136500</td>\n      <td>0</td>\n      <td>5</td>\n      <td>16</td>\n      <td>Z17024</td>\n      <td>20210211</td>\n      <td>0.0</td>\n      <td>4.4</td>\n      <td>-1.5</td>\n      <td>11.3</td>\n      <td>68.0</td>\n      <td>13.0</td>\n      <td>5.8</td>\n      <td>11.61</td>\n      <td>2021</td>\n      <td>2</td>\n      <td>3</td>\n      <td>12.8</td>\n      <td>43.10208</td>\n      <td>0</td>\n      <td>0</td>\n      <td>스포츠패션</td>\n    </tr>\n  </tbody>\n</table>\n</div>"
     },
     "execution_count": 164,
     "metadata": {},
     "output_type": "execute_result"
    }
   ],
   "source": [
    "coptest.head(3)"
   ],
   "metadata": {
    "collapsed": false,
    "pycharm": {
     "name": "#%%\n"
    }
   }
  },
  {
   "cell_type": "code",
   "execution_count": 166,
   "outputs": [],
   "source": [
    "coptest.to_csv(\"cop_latent1.csv\", encoding = 'cp949')"
   ],
   "metadata": {
    "collapsed": false,
    "pycharm": {
     "name": "#%%\n"
    }
   }
  },
  {
   "cell_type": "code",
   "execution_count": 161,
   "outputs": [],
   "source": [
    "lpaytest.to_csv(\"lpay_latent.csv\", encoding = 'cp949', index = False)"
   ],
   "metadata": {
    "collapsed": false,
    "pycharm": {
     "name": "#%%\n"
    }
   }
  }
 ],
 "metadata": {
  "kernelspec": {
   "display_name": "Python 3.9.13 64-bit",
   "language": "python",
   "name": "python3"
  },
  "language_info": {
   "codemirror_mode": {
    "name": "ipython",
    "version": 3
   },
   "file_extension": ".py",
   "mimetype": "text/x-python",
   "name": "python",
   "nbconvert_exporter": "python",
   "pygments_lexer": "ipython3",
   "version": "3.9.13"
  },
  "vscode": {
   "interpreter": {
    "hash": "4b88ac4b3b9ff07c83629ece774d96543656be9de2bebf470a8168085137b09c"
   }
  }
 },
 "nbformat": 4,
 "nbformat_minor": 0
}