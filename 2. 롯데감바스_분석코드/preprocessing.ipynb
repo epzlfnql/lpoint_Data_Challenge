{
  "nbformat": 4,
  "nbformat_minor": 0,
  "metadata": {
    "colab": {
      "name": "preprocessing.ipynb",
      "provenance": [],
      "collapsed_sections": []
    },
    "kernelspec": {
      "name": "python3",
      "display_name": "Python 3"
    },
    "language_info": {
      "name": "python"
    }
  },
  "cells": [
    {
      "cell_type": "code",
      "execution_count": 14,
      "metadata": {
        "colab": {
          "base_uri": "https://localhost:8080/"
        },
        "id": "ev31F1SJXM-_",
        "outputId": "027c2bf4-e713-470a-df51-6831a960e3b1"
      },
      "outputs": [
        {
          "output_type": "stream",
          "name": "stdout",
          "text": [
            "Drive already mounted at /content/drive; to attempt to forcibly remount, call drive.mount(\"/content/drive\", force_remount=True).\n"
          ]
        }
      ],
      "source": [
        "from google.colab import drive\n",
        "drive.mount('/content/drive')"
      ]
    },
    {
      "cell_type": "markdown",
      "source": [
        "# 필요 라이브러리 import"
      ],
      "metadata": {
        "id": "iHffxCiIY7fa"
      }
    },
    {
      "cell_type": "code",
      "source": [
        "import pandas as pd\n",
        "import numpy as np"
      ],
      "metadata": {
        "id": "k9IuJvkVXXHJ"
      },
      "execution_count": 15,
      "outputs": []
    },
    {
      "cell_type": "markdown",
      "source": [
        "# 데이터 불러오기\n",
        "1) 제공받은 pdde, cop, lpay 파일 불러오기</br>\n",
        "2) 날씨 데이터 불러오기"
      ],
      "metadata": {
        "id": "CHiwguVQZZAq"
      }
    },
    {
      "cell_type": "code",
      "source": [
        "demo = pd.read_csv('/content/drive/MyDrive/롯데멤버스_빅데이터경진대회/LPOINT_BIG_COMP_01_DEMO.csv')\n",
        "pdde = pd.read_csv('/content/drive/MyDrive/롯데멤버스_빅데이터경진대회/LPOINT_BIG_COMP_02_PDDE.csv')\n",
        "cop_u = pd.read_csv('/content/drive/MyDrive/롯데멤버스_빅데이터경진대회/LPOINT_BIG_COMP_03_COP_U.csv')\n",
        "pd_clac = pd.read_csv('/content/drive/MyDrive/롯데멤버스_빅데이터경진대회/LPOINT_BIG_COMP_04_PD_CLAC.csv')\n",
        "br = pd.read_csv('/content/drive/MyDrive/롯데멤버스_빅데이터경진대회/LPOINT_BIG_COMP_05_BR.csv')\n",
        "lpay = pd.read_csv('/content/drive/MyDrive/롯데멤버스_빅데이터경진대회/LPOINT_BIG_COMP_06_LPAY.csv')\n",
        "\n",
        "# 날씨 데이터\n",
        "# 날씨 데이터 불러오기(전국 날씨를 기준으로)\n",
        "강수량 = pd.read_csv('/content/drive/MyDrive/롯데멤버스_빅데이터경진대회/2021_전국_강수량 (1).csv',encoding = 'cp949')\n",
        "기온 = pd.read_csv('/content/drive/MyDrive/롯데멤버스_빅데이터경진대회/2021_전국_기온.csv',encoding = 'cp949')\n",
        "습도 = pd.read_csv('/content/drive/MyDrive/롯데멤버스_빅데이터경진대회/2021_전국_습도.csv',encoding = 'cp949')\n",
        "일조량 = pd.read_csv('/content/drive/MyDrive/롯데멤버스_빅데이터경진대회/2021_전국_일조량.csv',encoding = 'cp949')"
      ],
      "metadata": {
        "id": "mKq74AmKXXNw",
        "colab": {
          "base_uri": "https://localhost:8080/"
        },
        "outputId": "00c31c71-c5ea-4b46-9b72-12a0f151083e"
      },
      "execution_count": 37,
      "outputs": [
        {
          "output_type": "stream",
          "name": "stderr",
          "text": [
            "/usr/local/lib/python3.7/dist-packages/IPython/core/interactiveshell.py:2882: DtypeWarning: Columns (4) have mixed types.Specify dtype option on import or set low_memory=False.\n",
            "  exec(code_obj, self.user_global_ns, self.user_ns)\n"
          ]
        }
      ]
    },
    {
      "cell_type": "markdown",
      "source": [
        "# 데이터프레임 병합"
      ],
      "metadata": {
        "id": "gwr9afdDXoz3"
      }
    },
    {
      "cell_type": "markdown",
      "source": [
        "### 상품구매 데이터 병합\n",
        "- PDDE + DEMO + PD_CLAC + br"
      ],
      "metadata": {
        "id": "2e3TQcxyjibQ"
      }
    },
    {
      "cell_type": "code",
      "source": [
        "#상품 구매 정보(pdde) + 고객정보(demo)\n",
        "pdde_demo = pd.merge(demo, pdde, left_on = 'cust', right_on='cust', how='right') # cust(고객번호)를 기준으로 right조인\n",
        "\n",
        "#상품 구매정보(pdde) + 고객 정보(demo) + 상품 분류 정보(pd_clac)\n",
        "pdde_demo_pd_clac = pd.merge(pdde_demo, pd_clac, left_on = 'pd_c', right_on = 'pd_c', how = 'left')\n",
        "\n",
        "#상품 구매정보(pdde) + 고객 정보(demo) + 상품 분류 정보(pd_clac) + 점포 정보(br)\n",
        "\n",
        "pdde_merge = pd.merge(pdde_demo_pd_clac, br , on = ['cop_c', 'br_c', 'zon_hlv'], how='left')"
      ],
      "metadata": {
        "id": "qwiERVYNXu0c"
      },
      "execution_count": 38,
      "outputs": []
    },
    {
      "cell_type": "code",
      "source": [
        "pdde_merge.head(3)"
      ],
      "metadata": {
        "colab": {
          "base_uri": "https://localhost:8080/",
          "height": 239
        },
        "id": "bhPHw0uHjhLT",
        "outputId": "a5890523-4773-4f26-db87-ec91fa29aeef"
      },
      "execution_count": 39,
      "outputs": [
        {
          "output_type": "execute_result",
          "data": {
            "text/plain": [
              "         cust ma_fem_dv ages zon_hlv        rct_no  chnl_dv cop_c     br_c  \\\n",
              "0  M430112881        여성  50대     Z17  A01000001113        1   A01  A010039   \n",
              "1  M646853852        여성  40대     Z13  A01000002265        1   A01  A010025   \n",
              "2  M430112881        여성  50대     Z17  A01000003148        1   A01  A010039   \n",
              "\n",
              "     pd_c     de_dt  de_hr   buy_am  buy_ct     pd_nm clac_hlv_nm  \\\n",
              "0  PD0290  20210101     10  15000.0       1     남성티셔츠        남성의류   \n",
              "1  PD1369  20210101     10  79700.0       1  기타주방일회용품        주방잡화   \n",
              "2  PD0290  20210101     10  19000.0       1     남성티셔츠        남성의류   \n",
              "\n",
              "  clac_mcls_nm zon_mcls  \n",
              "0       남성의류상의      NaN  \n",
              "1       주방일회용품   Z13001  \n",
              "2       남성의류상의      NaN  "
            ],
            "text/html": [
              "\n",
              "  <div id=\"df-22c4efa5-74bf-4212-a83a-979ac4cbc832\">\n",
              "    <div class=\"colab-df-container\">\n",
              "      <div>\n",
              "<style scoped>\n",
              "    .dataframe tbody tr th:only-of-type {\n",
              "        vertical-align: middle;\n",
              "    }\n",
              "\n",
              "    .dataframe tbody tr th {\n",
              "        vertical-align: top;\n",
              "    }\n",
              "\n",
              "    .dataframe thead th {\n",
              "        text-align: right;\n",
              "    }\n",
              "</style>\n",
              "<table border=\"1\" class=\"dataframe\">\n",
              "  <thead>\n",
              "    <tr style=\"text-align: right;\">\n",
              "      <th></th>\n",
              "      <th>cust</th>\n",
              "      <th>ma_fem_dv</th>\n",
              "      <th>ages</th>\n",
              "      <th>zon_hlv</th>\n",
              "      <th>rct_no</th>\n",
              "      <th>chnl_dv</th>\n",
              "      <th>cop_c</th>\n",
              "      <th>br_c</th>\n",
              "      <th>pd_c</th>\n",
              "      <th>de_dt</th>\n",
              "      <th>de_hr</th>\n",
              "      <th>buy_am</th>\n",
              "      <th>buy_ct</th>\n",
              "      <th>pd_nm</th>\n",
              "      <th>clac_hlv_nm</th>\n",
              "      <th>clac_mcls_nm</th>\n",
              "      <th>zon_mcls</th>\n",
              "    </tr>\n",
              "  </thead>\n",
              "  <tbody>\n",
              "    <tr>\n",
              "      <th>0</th>\n",
              "      <td>M430112881</td>\n",
              "      <td>여성</td>\n",
              "      <td>50대</td>\n",
              "      <td>Z17</td>\n",
              "      <td>A01000001113</td>\n",
              "      <td>1</td>\n",
              "      <td>A01</td>\n",
              "      <td>A010039</td>\n",
              "      <td>PD0290</td>\n",
              "      <td>20210101</td>\n",
              "      <td>10</td>\n",
              "      <td>15000.0</td>\n",
              "      <td>1</td>\n",
              "      <td>남성티셔츠</td>\n",
              "      <td>남성의류</td>\n",
              "      <td>남성의류상의</td>\n",
              "      <td>NaN</td>\n",
              "    </tr>\n",
              "    <tr>\n",
              "      <th>1</th>\n",
              "      <td>M646853852</td>\n",
              "      <td>여성</td>\n",
              "      <td>40대</td>\n",
              "      <td>Z13</td>\n",
              "      <td>A01000002265</td>\n",
              "      <td>1</td>\n",
              "      <td>A01</td>\n",
              "      <td>A010025</td>\n",
              "      <td>PD1369</td>\n",
              "      <td>20210101</td>\n",
              "      <td>10</td>\n",
              "      <td>79700.0</td>\n",
              "      <td>1</td>\n",
              "      <td>기타주방일회용품</td>\n",
              "      <td>주방잡화</td>\n",
              "      <td>주방일회용품</td>\n",
              "      <td>Z13001</td>\n",
              "    </tr>\n",
              "    <tr>\n",
              "      <th>2</th>\n",
              "      <td>M430112881</td>\n",
              "      <td>여성</td>\n",
              "      <td>50대</td>\n",
              "      <td>Z17</td>\n",
              "      <td>A01000003148</td>\n",
              "      <td>1</td>\n",
              "      <td>A01</td>\n",
              "      <td>A010039</td>\n",
              "      <td>PD0290</td>\n",
              "      <td>20210101</td>\n",
              "      <td>10</td>\n",
              "      <td>19000.0</td>\n",
              "      <td>1</td>\n",
              "      <td>남성티셔츠</td>\n",
              "      <td>남성의류</td>\n",
              "      <td>남성의류상의</td>\n",
              "      <td>NaN</td>\n",
              "    </tr>\n",
              "  </tbody>\n",
              "</table>\n",
              "</div>\n",
              "      <button class=\"colab-df-convert\" onclick=\"convertToInteractive('df-22c4efa5-74bf-4212-a83a-979ac4cbc832')\"\n",
              "              title=\"Convert this dataframe to an interactive table.\"\n",
              "              style=\"display:none;\">\n",
              "        \n",
              "  <svg xmlns=\"http://www.w3.org/2000/svg\" height=\"24px\"viewBox=\"0 0 24 24\"\n",
              "       width=\"24px\">\n",
              "    <path d=\"M0 0h24v24H0V0z\" fill=\"none\"/>\n",
              "    <path d=\"M18.56 5.44l.94 2.06.94-2.06 2.06-.94-2.06-.94-.94-2.06-.94 2.06-2.06.94zm-11 1L8.5 8.5l.94-2.06 2.06-.94-2.06-.94L8.5 2.5l-.94 2.06-2.06.94zm10 10l.94 2.06.94-2.06 2.06-.94-2.06-.94-.94-2.06-.94 2.06-2.06.94z\"/><path d=\"M17.41 7.96l-1.37-1.37c-.4-.4-.92-.59-1.43-.59-.52 0-1.04.2-1.43.59L10.3 9.45l-7.72 7.72c-.78.78-.78 2.05 0 2.83L4 21.41c.39.39.9.59 1.41.59.51 0 1.02-.2 1.41-.59l7.78-7.78 2.81-2.81c.8-.78.8-2.07 0-2.86zM5.41 20L4 18.59l7.72-7.72 1.47 1.35L5.41 20z\"/>\n",
              "  </svg>\n",
              "      </button>\n",
              "      \n",
              "  <style>\n",
              "    .colab-df-container {\n",
              "      display:flex;\n",
              "      flex-wrap:wrap;\n",
              "      gap: 12px;\n",
              "    }\n",
              "\n",
              "    .colab-df-convert {\n",
              "      background-color: #E8F0FE;\n",
              "      border: none;\n",
              "      border-radius: 50%;\n",
              "      cursor: pointer;\n",
              "      display: none;\n",
              "      fill: #1967D2;\n",
              "      height: 32px;\n",
              "      padding: 0 0 0 0;\n",
              "      width: 32px;\n",
              "    }\n",
              "\n",
              "    .colab-df-convert:hover {\n",
              "      background-color: #E2EBFA;\n",
              "      box-shadow: 0px 1px 2px rgba(60, 64, 67, 0.3), 0px 1px 3px 1px rgba(60, 64, 67, 0.15);\n",
              "      fill: #174EA6;\n",
              "    }\n",
              "\n",
              "    [theme=dark] .colab-df-convert {\n",
              "      background-color: #3B4455;\n",
              "      fill: #D2E3FC;\n",
              "    }\n",
              "\n",
              "    [theme=dark] .colab-df-convert:hover {\n",
              "      background-color: #434B5C;\n",
              "      box-shadow: 0px 1px 3px 1px rgba(0, 0, 0, 0.15);\n",
              "      filter: drop-shadow(0px 1px 2px rgba(0, 0, 0, 0.3));\n",
              "      fill: #FFFFFF;\n",
              "    }\n",
              "  </style>\n",
              "\n",
              "      <script>\n",
              "        const buttonEl =\n",
              "          document.querySelector('#df-22c4efa5-74bf-4212-a83a-979ac4cbc832 button.colab-df-convert');\n",
              "        buttonEl.style.display =\n",
              "          google.colab.kernel.accessAllowed ? 'block' : 'none';\n",
              "\n",
              "        async function convertToInteractive(key) {\n",
              "          const element = document.querySelector('#df-22c4efa5-74bf-4212-a83a-979ac4cbc832');\n",
              "          const dataTable =\n",
              "            await google.colab.kernel.invokeFunction('convertToInteractive',\n",
              "                                                     [key], {});\n",
              "          if (!dataTable) return;\n",
              "\n",
              "          const docLinkHtml = 'Like what you see? Visit the ' +\n",
              "            '<a target=\"_blank\" href=https://colab.research.google.com/notebooks/data_table.ipynb>data table notebook</a>'\n",
              "            + ' to learn more about interactive tables.';\n",
              "          element.innerHTML = '';\n",
              "          dataTable['output_type'] = 'display_data';\n",
              "          await google.colab.output.renderOutput(dataTable, element);\n",
              "          const docLink = document.createElement('div');\n",
              "          docLink.innerHTML = docLinkHtml;\n",
              "          element.appendChild(docLink);\n",
              "        }\n",
              "      </script>\n",
              "    </div>\n",
              "  </div>\n",
              "  "
            ]
          },
          "metadata": {},
          "execution_count": 39
        }
      ]
    },
    {
      "cell_type": "markdown",
      "source": [
        "### 제휴사 데이터 병합\n",
        "COP_U + DEMO + BR"
      ],
      "metadata": {
        "id": "-OhwtuLerDbf"
      }
    },
    {
      "cell_type": "code",
      "source": [
        "tmp = pd.merge(cop_u,demo, left_on = 'cust', right_on='cust', how='left')\n",
        "cop_u_merge = pd.merge(tmp, br, on = ['cop_c','br_c', 'zon_hlv'], how='left')"
      ],
      "metadata": {
        "id": "XH2SuoipXu56"
      },
      "execution_count": 40,
      "outputs": []
    },
    {
      "cell_type": "code",
      "source": [
        "cop_u_merge.head(3)"
      ],
      "metadata": {
        "colab": {
          "base_uri": "https://localhost:8080/",
          "height": 143
        },
        "id": "JMP5FcPAurLQ",
        "outputId": "519ddbda-7859-4a06-f717-f74fd6322ce5"
      },
      "execution_count": 41,
      "outputs": [
        {
          "output_type": "execute_result",
          "data": {
            "text/plain": [
              "         cust              rct_no cop_c     br_c  chnl_dv     de_dt    vst_dt  \\\n",
              "0  M839993508  21102612B015763935   B01  B010012        1  20211026  20211026   \n",
              "1  M839993508  21110610B014219744   B01  B010012        1  20211106  20211106   \n",
              "2  M839993508  21021112B013419710   B01  B010012        1  20210211  20210211   \n",
              "\n",
              "   de_hr  buy_am ma_fem_dv ages zon_hlv zon_mcls  \n",
              "0     12   60000        남성  70대     Z17   Z17024  \n",
              "1     10   17100        남성  70대     Z17   Z17024  \n",
              "2     12  136500        남성  70대     Z17   Z17024  "
            ],
            "text/html": [
              "\n",
              "  <div id=\"df-8a085879-b901-4fb3-baa9-90a569444dec\">\n",
              "    <div class=\"colab-df-container\">\n",
              "      <div>\n",
              "<style scoped>\n",
              "    .dataframe tbody tr th:only-of-type {\n",
              "        vertical-align: middle;\n",
              "    }\n",
              "\n",
              "    .dataframe tbody tr th {\n",
              "        vertical-align: top;\n",
              "    }\n",
              "\n",
              "    .dataframe thead th {\n",
              "        text-align: right;\n",
              "    }\n",
              "</style>\n",
              "<table border=\"1\" class=\"dataframe\">\n",
              "  <thead>\n",
              "    <tr style=\"text-align: right;\">\n",
              "      <th></th>\n",
              "      <th>cust</th>\n",
              "      <th>rct_no</th>\n",
              "      <th>cop_c</th>\n",
              "      <th>br_c</th>\n",
              "      <th>chnl_dv</th>\n",
              "      <th>de_dt</th>\n",
              "      <th>vst_dt</th>\n",
              "      <th>de_hr</th>\n",
              "      <th>buy_am</th>\n",
              "      <th>ma_fem_dv</th>\n",
              "      <th>ages</th>\n",
              "      <th>zon_hlv</th>\n",
              "      <th>zon_mcls</th>\n",
              "    </tr>\n",
              "  </thead>\n",
              "  <tbody>\n",
              "    <tr>\n",
              "      <th>0</th>\n",
              "      <td>M839993508</td>\n",
              "      <td>21102612B015763935</td>\n",
              "      <td>B01</td>\n",
              "      <td>B010012</td>\n",
              "      <td>1</td>\n",
              "      <td>20211026</td>\n",
              "      <td>20211026</td>\n",
              "      <td>12</td>\n",
              "      <td>60000</td>\n",
              "      <td>남성</td>\n",
              "      <td>70대</td>\n",
              "      <td>Z17</td>\n",
              "      <td>Z17024</td>\n",
              "    </tr>\n",
              "    <tr>\n",
              "      <th>1</th>\n",
              "      <td>M839993508</td>\n",
              "      <td>21110610B014219744</td>\n",
              "      <td>B01</td>\n",
              "      <td>B010012</td>\n",
              "      <td>1</td>\n",
              "      <td>20211106</td>\n",
              "      <td>20211106</td>\n",
              "      <td>10</td>\n",
              "      <td>17100</td>\n",
              "      <td>남성</td>\n",
              "      <td>70대</td>\n",
              "      <td>Z17</td>\n",
              "      <td>Z17024</td>\n",
              "    </tr>\n",
              "    <tr>\n",
              "      <th>2</th>\n",
              "      <td>M839993508</td>\n",
              "      <td>21021112B013419710</td>\n",
              "      <td>B01</td>\n",
              "      <td>B010012</td>\n",
              "      <td>1</td>\n",
              "      <td>20210211</td>\n",
              "      <td>20210211</td>\n",
              "      <td>12</td>\n",
              "      <td>136500</td>\n",
              "      <td>남성</td>\n",
              "      <td>70대</td>\n",
              "      <td>Z17</td>\n",
              "      <td>Z17024</td>\n",
              "    </tr>\n",
              "  </tbody>\n",
              "</table>\n",
              "</div>\n",
              "      <button class=\"colab-df-convert\" onclick=\"convertToInteractive('df-8a085879-b901-4fb3-baa9-90a569444dec')\"\n",
              "              title=\"Convert this dataframe to an interactive table.\"\n",
              "              style=\"display:none;\">\n",
              "        \n",
              "  <svg xmlns=\"http://www.w3.org/2000/svg\" height=\"24px\"viewBox=\"0 0 24 24\"\n",
              "       width=\"24px\">\n",
              "    <path d=\"M0 0h24v24H0V0z\" fill=\"none\"/>\n",
              "    <path d=\"M18.56 5.44l.94 2.06.94-2.06 2.06-.94-2.06-.94-.94-2.06-.94 2.06-2.06.94zm-11 1L8.5 8.5l.94-2.06 2.06-.94-2.06-.94L8.5 2.5l-.94 2.06-2.06.94zm10 10l.94 2.06.94-2.06 2.06-.94-2.06-.94-.94-2.06-.94 2.06-2.06.94z\"/><path d=\"M17.41 7.96l-1.37-1.37c-.4-.4-.92-.59-1.43-.59-.52 0-1.04.2-1.43.59L10.3 9.45l-7.72 7.72c-.78.78-.78 2.05 0 2.83L4 21.41c.39.39.9.59 1.41.59.51 0 1.02-.2 1.41-.59l7.78-7.78 2.81-2.81c.8-.78.8-2.07 0-2.86zM5.41 20L4 18.59l7.72-7.72 1.47 1.35L5.41 20z\"/>\n",
              "  </svg>\n",
              "      </button>\n",
              "      \n",
              "  <style>\n",
              "    .colab-df-container {\n",
              "      display:flex;\n",
              "      flex-wrap:wrap;\n",
              "      gap: 12px;\n",
              "    }\n",
              "\n",
              "    .colab-df-convert {\n",
              "      background-color: #E8F0FE;\n",
              "      border: none;\n",
              "      border-radius: 50%;\n",
              "      cursor: pointer;\n",
              "      display: none;\n",
              "      fill: #1967D2;\n",
              "      height: 32px;\n",
              "      padding: 0 0 0 0;\n",
              "      width: 32px;\n",
              "    }\n",
              "\n",
              "    .colab-df-convert:hover {\n",
              "      background-color: #E2EBFA;\n",
              "      box-shadow: 0px 1px 2px rgba(60, 64, 67, 0.3), 0px 1px 3px 1px rgba(60, 64, 67, 0.15);\n",
              "      fill: #174EA6;\n",
              "    }\n",
              "\n",
              "    [theme=dark] .colab-df-convert {\n",
              "      background-color: #3B4455;\n",
              "      fill: #D2E3FC;\n",
              "    }\n",
              "\n",
              "    [theme=dark] .colab-df-convert:hover {\n",
              "      background-color: #434B5C;\n",
              "      box-shadow: 0px 1px 3px 1px rgba(0, 0, 0, 0.15);\n",
              "      filter: drop-shadow(0px 1px 2px rgba(0, 0, 0, 0.3));\n",
              "      fill: #FFFFFF;\n",
              "    }\n",
              "  </style>\n",
              "\n",
              "      <script>\n",
              "        const buttonEl =\n",
              "          document.querySelector('#df-8a085879-b901-4fb3-baa9-90a569444dec button.colab-df-convert');\n",
              "        buttonEl.style.display =\n",
              "          google.colab.kernel.accessAllowed ? 'block' : 'none';\n",
              "\n",
              "        async function convertToInteractive(key) {\n",
              "          const element = document.querySelector('#df-8a085879-b901-4fb3-baa9-90a569444dec');\n",
              "          const dataTable =\n",
              "            await google.colab.kernel.invokeFunction('convertToInteractive',\n",
              "                                                     [key], {});\n",
              "          if (!dataTable) return;\n",
              "\n",
              "          const docLinkHtml = 'Like what you see? Visit the ' +\n",
              "            '<a target=\"_blank\" href=https://colab.research.google.com/notebooks/data_table.ipynb>data table notebook</a>'\n",
              "            + ' to learn more about interactive tables.';\n",
              "          element.innerHTML = '';\n",
              "          dataTable['output_type'] = 'display_data';\n",
              "          await google.colab.output.renderOutput(dataTable, element);\n",
              "          const docLink = document.createElement('div');\n",
              "          docLink.innerHTML = docLinkHtml;\n",
              "          element.appendChild(docLink);\n",
              "        }\n",
              "      </script>\n",
              "    </div>\n",
              "  </div>\n",
              "  "
            ]
          },
          "metadata": {},
          "execution_count": 41
        }
      ]
    },
    {
      "cell_type": "markdown",
      "source": [
        "### 엘페이 데이터 병합\n",
        "LPAY + DEMO"
      ],
      "metadata": {
        "id": "eMRs0t2XlfO6"
      }
    },
    {
      "cell_type": "code",
      "source": [
        "lpay_merge = pd.merge(lpay, demo, how = 'left', on='cust')"
      ],
      "metadata": {
        "id": "6oV1v4fDleid"
      },
      "execution_count": 42,
      "outputs": []
    },
    {
      "cell_type": "markdown",
      "source": [
        "# 날씨 데이터 병합"
      ],
      "metadata": {
        "id": "kc1p6Tv8icWC"
      }
    },
    {
      "cell_type": "code",
      "source": [
        "# 조인하기 전 데이터 전처리\n",
        "print(len(강수량))\n",
        "print(len(기온))\n",
        "print(len(습도)) # 습도는 뒤에 뭐가 더 붙었다. 조인으로 해줘야겠다 concat쓰면 잘못될 수 있음.\n",
        "print(len(일조량))"
      ],
      "metadata": {
        "colab": {
          "base_uri": "https://localhost:8080/"
        },
        "id": "SeNEbwE4iefK",
        "outputId": "aa4d7a6d-4162-4e3b-9bfd-49224439323b"
      },
      "execution_count": 43,
      "outputs": [
        {
          "output_type": "stream",
          "name": "stdout",
          "text": [
            "365\n",
            "365\n",
            "371\n",
            "365\n"
          ]
        }
      ]
    },
    {
      "cell_type": "code",
      "source": [
        "# weather로 4개 csv 날씨 데이터 merge\n",
        "weather = pd.merge(강수량, 기온, how = 'left',on = '날짜')\n",
        "습도.drop(['Unnamed: 3'\t,'Unnamed: 4'], axis=1, inplace=True)\n",
        "습도.drop([365, 366,367,368,369,370], inplace=True)\n",
        "습도['일시'] = 습도['일시'].apply(lambda x: x.strip()) # 일시 앞에 공백이 있어서 안지워주면 조인이 안된다.\n",
        "weather = pd.merge(weather, 습도, how='left', left_on='날짜', right_on='일시')\n",
        "일조량['일시'] = 일조량['일시'].apply(lambda x: x.strip())\n",
        "weather = pd.merge(weather, 일조량, how='left', on='일시')\n",
        "weather.drop('일시',axis=1, inplace=True)\n",
        "weather['날짜'] = pd.to_datetime(weather['날짜'])\n",
        "\n",
        "\n",
        "\n",
        "# pdde에 조인\n",
        "pdde_merge['de_dt'] = pdde_merge['de_dt'].astype(str)\n",
        "pdde_merge['de_dt'] = pd.to_datetime(pdde_merge['de_dt'])\n",
        "\n",
        "pdde_merge = pd.merge(pdde_merge, weather, how='left', left_on='de_dt', right_on='날짜')\n",
        "pdde_merge.drop(['날짜'], axis=1, inplace = True)\n",
        "\n",
        "\n",
        "\n",
        "# cop에 조인\n",
        "cop_u_merge['de_dt'] = cop_u_merge['de_dt'].astype(str)\n",
        "cop_u_merge['de_dt'] = pd.to_datetime(cop_u_merge['de_dt'])\n",
        "\n",
        "cop_u_merge = pd.merge(cop_u_merge, weather, how='left', left_on='de_dt', right_on='날짜')\n",
        "cop_u_merge.drop(['날짜'], axis=1, inplace = True)\n",
        "\n",
        "\n",
        "\n",
        "# lpay에 조인\n",
        "lpay_merge['de_dt'] = lpay_merge['de_dt'].astype(str)\n",
        "lpay_merge['de_dt'] = pd.to_datetime(lpay_merge['de_dt'])\n",
        "\n",
        "lpay_merge = pd.merge(lpay_merge, weather, how='left', left_on='de_dt', right_on='날짜')\n",
        "lpay_merge.drop(['날짜'], axis=1, inplace = True)\n"
      ],
      "metadata": {
        "id": "becO_lg7ieht"
      },
      "execution_count": 45,
      "outputs": []
    },
    {
      "cell_type": "code",
      "source": [
        "# CSV 파일로 내보내기\n",
        "pdde_merge.to_csv('pdde_final.csv')\n",
        "cop_u_merge.to_csv('cop_final.csv')\n",
        "lpay_merge.to_csv('lpay_final.csv')"
      ],
      "metadata": {
        "id": "Rfi7Rir_xqoo"
      },
      "execution_count": 58,
      "outputs": []
    },
    {
      "cell_type": "markdown",
      "source": [
        "# 데이터 전처리 함수 만들기\n",
        "- 모든 데이터프레임에 적용가능하도록 하나의 전처리 함수 작성</br>\n",
        "1) 날짜 파생변수(연, 월, 일) 생성</br>\n",
        "2) 일교차, 불쾌지수 생성(날씨 파생변수)</br>\n",
        "3) 기념일 정보(공휴일, 주말 포함)\n"
      ],
      "metadata": {
        "id": "eHK1czbfZsZY"
      }
    },
    {
      "cell_type": "code",
      "source": [
        "def preprocess(df):\n",
        "    #성별 남자 : 0, 여성 1\n",
        "    #나이 : 20대 0 30대 1 40대 2 50대 3 60대 4 70대 5\n",
        "    # df.replace({'ma_fem_dv': {\"남성\": 0, \"여성\": 1},\n",
        "    #                   'ages': {\"20대\": 0,\"30대\": 1, \"40대\": 2, \"50대\": 3, \"60대\": 4, \"70대\": 5 }},inplace=True)\n",
        "\n",
        "    #날짜 split\n",
        "    df['de_dt'] = df['de_dt'].astype(str)\n",
        "    df['de_dt'] = pd.to_datetime(df['de_dt'])\n",
        "    df['year'] = df['de_dt'].apply(lambda x: x.year)\n",
        "    df['month'] = df['de_dt'].apply(lambda x: x.month)\n",
        "    df['요일'] = df['de_dt'].apply(lambda x: x.weekday())\n",
        "    \n",
        "    #일교차 생성\n",
        "    df['일교차'] = df[\"최고기온(℃)\"] - df[\"최저기온(℃)\"]\n",
        "\n",
        "    # 불쾌지수 생성\n",
        "    df['불쾌지수'] = 9/5*df['평균기온(℃)']-0.55*(1-df['평균습도(%rh)']/100)*(9/5*df['평균기온(℃)']-26) + 32\n",
        "\n",
        "\n",
        "\n",
        "    # 2020년 데이터 제외\n",
        "    df = df[df['year']!=2020]\n",
        "    df= df.reset_index(drop=True)\n",
        "\n",
        "\n",
        "\n",
        "    #공휴일 생성 요일은 월:0, 화:1\n",
        "    tmp = []\n",
        "    # 주말\n",
        "    for i in range(len(df)):\n",
        "        if df['요일'][i]==5 or df['요일'][i]==6: # 주말이면\n",
        "            tmp.append(df['de_dt'][i])\n",
        "    # 21년도 기준 공휴일 & 기념일 & 대체휴일\n",
        "    공휴일 = ['2021-01-01','2021-02-11','2021-02-12', '2021-02-13','2021-02-14','2021-03-01','2021-03-14','2021-05-05','2021-05-08','2021-06-06',\n",
        "             '2021-08-15','2021-08-16','2021-09-20','2021-09-21','2021-09-22','2021-10-03','2021-10-04','2021-10-09','2021-10-11','2021-12-24','2021-12-25']\n",
        "\n",
        "    tmp.extend(공휴일)\n",
        "\n",
        "    tmp = list(set(tmp)) #중복제거\n",
        "\n",
        "    holiday_anniversary = []\n",
        "    for i in range(len(df)):\n",
        "        if df['de_dt'][i] in tmp:\n",
        "            holiday_anniversary.append(1)\n",
        "        else:\n",
        "            holiday_anniversary.append(0)\n",
        "\n",
        "    df['holiday_anniversary'] = holiday_anniversary\n",
        "    return df"
      ],
      "metadata": {
        "id": "i6xV5t-_XXTj"
      },
      "execution_count": 50,
      "outputs": []
    }
  ]
}